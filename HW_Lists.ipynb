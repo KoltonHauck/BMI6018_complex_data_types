{
 "cells": [
  {
   "cell_type": "code",
   "execution_count": 1,
   "id": "43c61910",
   "metadata": {},
   "outputs": [
    {
     "name": "stdout",
     "output_type": "stream",
     "text": [
      "Assignment 3\n"
     ]
    }
   ],
   "source": [
    "\"\"\"BMI 6018 Fall 2022 \n",
    "\n",
    "Instructions: For this assignment, please return all answers as variables in your\n",
    ".py file. You will quickly note that you will need to find answers outside the\n",
    "class lectures. This is not an accident! You will need to become professionally\n",
    "comfortable with looking things up via the python docs and google. \n",
    "\n",
    "Ensure that all variables are labelled according to the example. IE the answer\n",
    "to problem 1 part c should be labelled one_c. While all questions are answerable\n",
    "with a single line of code, you are free to use helper variables so long as they\n",
    "are helpfully/informatively named. \n",
    "\n",
    "I should be able to open your .py file and run it without errors. I will **not** be \n",
    "debugging your code for you. If your file does not run, it will **not** be graded. \n",
    "If you are unsure if your file will run, open up a chpc terminal and test it there.\n",
    "\n",
    "For this assignment, please only use base python files types. That is: there \n",
    "should be no import calls in your file save my use of sys at the end.\n",
    "\n",
    "Example Problem\n",
    "\n",
    "0.a Create a list of strings\n",
    "0.b Using a str method, capitalize one of the elements in the list using a slice\n",
    "0.c Coerce one character of the list to display as a hex\n",
    "\n",
    "zero_a = ['first','second','third','fourth','fifth']\n",
    "zero_b = zero_a[1].upper()\n",
    "zero_c = hex(ord(zero_a[1][1]))\n",
    "\n",
    "#Problem 1: Lists, Sets and Coersion\n",
    "\n",
    "1.a Create a list of integers no fewer than 10 items from 0 to 9.\n",
    " .b Add 3 to the 5th indexed element\n",
    " .c Coerce all elements in the list to floats using list comprehension\n",
    " .d Coerce the list to a set\n",
    " .e Using a method, append int 10 to the set\n",
    " .f Using a method, pop an item from the set\n",
    " .g Using a length counting function, count the number of items in the set\n",
    " .h Check if the number of items in the set is the same as the \n",
    "    number of items in the list\n",
    " .i Coerce the set to a list and use the \"+\" operator combine the list to the list from 1.a\n",
    " .j Coerce 1.i to a set\n",
    " .k Count the number of elements in the 1.j\n",
    "\n",
    "\n",
    "\n",
    "Problem 2: Dictionary woes\n",
    "\n",
    "2.a Combine the three sample dictionaries (given below) into a nested dictionary (nested in programming means joined), named \n",
    "    two_a, ensure the key names are the same as the dictionary names.\n",
    " .b Using keys, retrieve the Dango's name from 2.a\n",
    " .c Using keys, update the value of Mochi's year to 2018. This should not be a variable\n",
    "    and should simply update 2.a.\n",
    " .d Manually create a dictionary that has a single level and contains each patient\n",
    "    as the key and the year as the value. Set Mochi's year to 2019.'\n",
    " .e Coerce the keys of 2.d into a list\n",
    " .f Coerce the values of 2.d into a list\n",
    " .g Use the zip function to combine 2.e and 2.f into a dictionary again\n",
    "\n",
    "\n",
    "two_patient_dictionary_kinoko = {\n",
    "  \"name\" : \"Kinoko\",\n",
    "  \"year\" : 2021\n",
    "}\n",
    "two_patient_dictionary_dango = {\n",
    "  \"name\" : \"Dango\",\n",
    "  \"year\" : 2019\n",
    "}\n",
    "two_patient_dictionary_mochi  = {\n",
    "  \"name\" : \"Mochi\",\n",
    "  \"year\" : 2020\n",
    "}\n",
    "\n",
    "\n",
    "\n",
    "Problem 3: Set combinations\n",
    "\n",
    "Given the predefined sets below and using set methods\n",
    "3.a Is set E a subset of set A\n",
    " .b Is set E a strict subset of set A\n",
    " .c Create a set that is the intersection of set A and set B\n",
    " .d Create a set that is the union of sets C, D and E\n",
    " .e add 9 to the set\n",
    " .f Using == compare this set to the list in one_a\n",
    " .g Explain why they are not the same. What would you need to change if you\n",
    "    wanted this to be True?\n",
    " \n",
    "\n",
    "three_setA = {1,2,3,4,5}\n",
    "three_setB = {2,3,4,5,6}\n",
    "three_setC = {3,5,7,9}\n",
    "three_setD = {2,4,6,8}\n",
    "three_setE = {1,2,3,4}\n",
    "\n",
    "\n",
    "\n",
    "Problem 4: Changing variable types\n",
    "\n",
    "For each step you will modify a variable, then append the type of the variable\n",
    "to a list. Do not recreate the list variable, it should be a running list of \n",
    "types.\n",
    "\n",
    "4.a Create a variable of type int with the value of 8\n",
    " .b Create an empty list \n",
    " .c Using type(), add the type of 4.a to this list\n",
    " .d Add 0.39 to 4.c\n",
    " .e append the type of 0.39 to the list\n",
    " .f exponentiate to the -10, ie: 4.d^-10,(hint: there might be an artihmetic operator to do so) round it to no \n",
    "    decimal places, and append to list.\n",
    " .g append the type to the list\n",
    " \n",
    " \n",
    "Problem 5: More variable type changes\n",
    "\n",
    "Continue from where you left off in Problem 4.\n",
    "\n",
    "5.a Manually create a dictionary where the values are items in the list from where we left in \n",
    "    problem 4, and the keys should be their index in the list. Print the dictionary.\n",
    " .b Add 300 and coerce it into a string\n",
    " .c append the type to the list\n",
    " .d slice the string up to the 2nd element\n",
    " .e append the type to the list\n",
    " .f use list comprehension to convert this into a new list of integers\n",
    " .g append the type to the list\n",
    " .h append the type of three_setA to the list\n",
    "\"\"\"\n",
    "\n",
    "#Start your assignment here\n",
    "print(\"Assignment 3\")\n",
    "\n"
   ]
  },
  {
   "cell_type": "markdown",
   "id": "5b2b9882",
   "metadata": {},
   "source": [
    "## Problem 1: Lists, Sets and Coersion"
   ]
  },
  {
   "cell_type": "markdown",
   "id": "98234a71",
   "metadata": {},
   "source": [
    "- .a Create a list of integers no fewer than 10 items from 0 to 9."
   ]
  },
  {
   "cell_type": "code",
   "execution_count": 2,
   "id": "bf9bd378",
   "metadata": {},
   "outputs": [
    {
     "name": "stdout",
     "output_type": "stream",
     "text": [
      "[0, 1, 2, 3, 4, 5, 6, 7, 8, 9]\n"
     ]
    }
   ],
   "source": [
    "one_a = list(range(10))\n",
    "print(one_a)"
   ]
  },
  {
   "cell_type": "markdown",
   "id": "e185835d",
   "metadata": {},
   "source": [
    "- .b Add 3 to the 5th indexed element"
   ]
  },
  {
   "cell_type": "code",
   "execution_count": 3,
   "id": "21bca4ea",
   "metadata": {},
   "outputs": [
    {
     "name": "stdout",
     "output_type": "stream",
     "text": [
      "[0, 1, 2, 3, 4, 3, 5, 6, 7, 8, 9]\n"
     ]
    }
   ],
   "source": [
    "one_b = one_a.copy()\n",
    "one_b.insert(5, 3)\n",
    "print(one_b)"
   ]
  },
  {
   "cell_type": "markdown",
   "id": "c1c6d8a0",
   "metadata": {},
   "source": [
    "- .c Coerce all elements in the list to floats using list comprehension"
   ]
  },
  {
   "cell_type": "code",
   "execution_count": 4,
   "id": "f4443f2a",
   "metadata": {},
   "outputs": [
    {
     "name": "stdout",
     "output_type": "stream",
     "text": [
      "[0.0, 1.0, 2.0, 3.0, 4.0, 3.0, 5.0, 6.0, 7.0, 8.0, 9.0]\n"
     ]
    }
   ],
   "source": [
    "one_c = [float(x) for x in one_b]\n",
    "print(one_c)"
   ]
  },
  {
   "cell_type": "markdown",
   "id": "a7c1d9b6",
   "metadata": {},
   "source": [
    "- .d Coerce the list to a set"
   ]
  },
  {
   "cell_type": "code",
   "execution_count": 5,
   "id": "115c146e",
   "metadata": {},
   "outputs": [
    {
     "name": "stdout",
     "output_type": "stream",
     "text": [
      "{0.0, 1.0, 2.0, 3.0, 4.0, 5.0, 6.0, 7.0, 8.0, 9.0}\n"
     ]
    }
   ],
   "source": [
    "one_d = set(one_c)\n",
    "print(one_d)"
   ]
  },
  {
   "cell_type": "markdown",
   "id": "58f7c2c3",
   "metadata": {},
   "source": [
    "- .e Using a method, append int 10 to the set"
   ]
  },
  {
   "cell_type": "code",
   "execution_count": 6,
   "id": "90dfd97b",
   "metadata": {},
   "outputs": [
    {
     "name": "stdout",
     "output_type": "stream",
     "text": [
      "{0.0, 1.0, 2.0, 3.0, 4.0, 5.0, 6.0, 7.0, 8.0, 9.0, 10}\n"
     ]
    }
   ],
   "source": [
    "one_e = one_d.copy()\n",
    "one_e.add(10)\n",
    "print(one_e)"
   ]
  },
  {
   "cell_type": "markdown",
   "id": "6c7c49c5",
   "metadata": {},
   "source": [
    "- .f Using a method, pop an item from the set"
   ]
  },
  {
   "cell_type": "code",
   "execution_count": 7,
   "id": "39d80ec7",
   "metadata": {},
   "outputs": [
    {
     "name": "stdout",
     "output_type": "stream",
     "text": [
      "{1.0, 2.0, 3.0, 4.0, 5.0, 6.0, 7.0, 8.0, 9.0, 10}\n"
     ]
    }
   ],
   "source": [
    "one_f = one_e.copy()\n",
    "one_f.pop()\n",
    "print(one_f)"
   ]
  },
  {
   "cell_type": "markdown",
   "id": "2805d884",
   "metadata": {},
   "source": [
    "- .g Using a length counting function, count the number of items in the set"
   ]
  },
  {
   "cell_type": "code",
   "execution_count": 8,
   "id": "f93b6ae7",
   "metadata": {},
   "outputs": [
    {
     "name": "stdout",
     "output_type": "stream",
     "text": [
      "10\n"
     ]
    }
   ],
   "source": [
    "one_g = len(one_f)\n",
    "print(one_g)"
   ]
  },
  {
   "cell_type": "markdown",
   "id": "84dc957b",
   "metadata": {},
   "source": [
    "- .h Check if the number of items in the set is the same as the number of items in the list"
   ]
  },
  {
   "cell_type": "code",
   "execution_count": 9,
   "id": "a925e4c0",
   "metadata": {},
   "outputs": [
    {
     "name": "stdout",
     "output_type": "stream",
     "text": [
      "False\n"
     ]
    }
   ],
   "source": [
    "one_h = one_g == len(one_c)\n",
    "print(one_h)"
   ]
  },
  {
   "cell_type": "markdown",
   "id": "b27715eb",
   "metadata": {},
   "source": [
    "- .i Coerce the set to a list and use the \"+\" operator combine the list to the list from 1.a"
   ]
  },
  {
   "cell_type": "code",
   "execution_count": 10,
   "id": "9596e1e6",
   "metadata": {},
   "outputs": [
    {
     "name": "stdout",
     "output_type": "stream",
     "text": [
      "[1.0, 2.0, 3.0, 4.0, 5.0, 6.0, 7.0, 8.0, 9.0, 10, 0, 1, 2, 3, 4, 5, 6, 7, 8, 9]\n"
     ]
    }
   ],
   "source": [
    "one_i = list(one_f) + one_a\n",
    "print(one_i)"
   ]
  },
  {
   "cell_type": "markdown",
   "id": "236e919a",
   "metadata": {},
   "source": [
    "- .j Coerce 1.i to a set"
   ]
  },
  {
   "cell_type": "code",
   "execution_count": 11,
   "id": "d7b6f982",
   "metadata": {},
   "outputs": [
    {
     "name": "stdout",
     "output_type": "stream",
     "text": [
      "{0, 1.0, 2.0, 3.0, 4.0, 5.0, 6.0, 7.0, 8.0, 9.0, 10}\n"
     ]
    }
   ],
   "source": [
    "one_j = set(one_i)\n",
    "print(one_j)"
   ]
  },
  {
   "cell_type": "markdown",
   "id": "ece9ccb4",
   "metadata": {},
   "source": [
    "- .k Count the number of elements in the 1.j"
   ]
  },
  {
   "cell_type": "code",
   "execution_count": 12,
   "id": "afab36c6",
   "metadata": {},
   "outputs": [
    {
     "name": "stdout",
     "output_type": "stream",
     "text": [
      "11\n"
     ]
    }
   ],
   "source": [
    "one_k = len(one_j)\n",
    "print(one_k)"
   ]
  },
  {
   "cell_type": "markdown",
   "id": "984b775a",
   "metadata": {},
   "source": [
    "## Problem 2: Dictionary woes"
   ]
  },
  {
   "cell_type": "markdown",
   "id": "0397146d",
   "metadata": {},
   "source": [
    "- .a Combine the three sample dictionaries (given below) into a nested dictionary (nested in programming means joined), named \n",
    "    two_a, ensure the key names are the same as the dictionary names.\n",
    "    \n",
    "- two_patient_dictionary_kinoko = {\n",
    "  \"name\" : \"Kinoko\",\n",
    "  \"year\" : 2021\n",
    "}\n",
    "- two_patient_dictionary_dango = {\n",
    "  \"name\" : \"Dango\",\n",
    "  \"year\" : 2019\n",
    "}\n",
    "- two_patient_dictionary_mochi  = {\n",
    "  \"name\" : \"Mochi\",\n",
    "  \"year\" : 2020\n",
    "}"
   ]
  },
  {
   "cell_type": "code",
   "execution_count": 13,
   "id": "a853dd4e",
   "metadata": {},
   "outputs": [],
   "source": [
    "two_a = {\n",
    "      \"two_patient_dictionary_kinoko\": {\n",
    "      \"name\" : \"Kinoko\",\n",
    "      \"year\" : 2021\n",
    "    },\n",
    "      \"two_patient_dictionary_dango\": {\n",
    "      \"name\" : \"Dango\",\n",
    "      \"year\" : 2019\n",
    "    },\n",
    "      \"two_patient_dictionary_mochi\": {\n",
    "      \"name\" : \"Mochi\",\n",
    "      \"year\" : 2020\n",
    "    }\n",
    "}"
   ]
  },
  {
   "cell_type": "markdown",
   "id": "9c5fff4c",
   "metadata": {},
   "source": [
    "- .b Using keys, retrieve the Dango's name from 2.a"
   ]
  },
  {
   "cell_type": "code",
   "execution_count": 14,
   "id": "b94cde7d",
   "metadata": {},
   "outputs": [
    {
     "name": "stdout",
     "output_type": "stream",
     "text": [
      "Dango\n"
     ]
    }
   ],
   "source": [
    "two_b = two_a[\"two_patient_dictionary_dango\"][\"name\"]\n",
    "print(two_b)"
   ]
  },
  {
   "cell_type": "markdown",
   "id": "74ac22e8",
   "metadata": {},
   "source": [
    "- .c Using keys, update the value of Mochi's year to 2018. This should not be a variable\n",
    "    and should simply update 2.a."
   ]
  },
  {
   "cell_type": "code",
   "execution_count": 15,
   "id": "520dd5b6",
   "metadata": {},
   "outputs": [
    {
     "name": "stdout",
     "output_type": "stream",
     "text": [
      "{'two_patient_dictionary_kinoko': {'name': 'Kinoko', 'year': 2021}, 'two_patient_dictionary_dango': {'name': 'Dango', 'year': 2019}, 'two_patient_dictionary_mochi': {'name': 'Mochi', 'year': 2018}}\n"
     ]
    }
   ],
   "source": [
    "two_a[\"two_patient_dictionary_mochi\"][\"year\"] = 2018\n",
    "print(two_a)"
   ]
  },
  {
   "cell_type": "markdown",
   "id": "d4602793",
   "metadata": {},
   "source": [
    "- .d Manually create a dictionary that has a single level and contains each patient\n",
    "    as the key and the year as the value. Set Mochi's year to 2019.'"
   ]
  },
  {
   "cell_type": "code",
   "execution_count": 16,
   "id": "b8820b9d",
   "metadata": {},
   "outputs": [
    {
     "name": "stdout",
     "output_type": "stream",
     "text": [
      "{'Kinoko': 2021, 'Dango': 2019, 'Mochi': 2019}\n"
     ]
    }
   ],
   "source": [
    "two_d = {\n",
    "    \"Kinoko\": 2021,\n",
    "    \"Dango\": 2019,\n",
    "    \"Mochi\": 2019\n",
    "}\n",
    "print(two_d)"
   ]
  },
  {
   "cell_type": "markdown",
   "id": "6f8a0d93",
   "metadata": {},
   "source": [
    "- .e Coerce the keys of 2.d into a list"
   ]
  },
  {
   "cell_type": "code",
   "execution_count": 17,
   "id": "a1398ef2",
   "metadata": {},
   "outputs": [
    {
     "name": "stdout",
     "output_type": "stream",
     "text": [
      "['Kinoko', 'Dango', 'Mochi']\n"
     ]
    }
   ],
   "source": [
    "two_e = list(two_d.keys())\n",
    "print(two_e)"
   ]
  },
  {
   "cell_type": "markdown",
   "id": "3f064373",
   "metadata": {},
   "source": [
    "- .f Coerce the values of 2.d into a list"
   ]
  },
  {
   "cell_type": "code",
   "execution_count": 18,
   "id": "a5c13ff2",
   "metadata": {},
   "outputs": [
    {
     "name": "stdout",
     "output_type": "stream",
     "text": [
      "[2021, 2019, 2019]\n"
     ]
    }
   ],
   "source": [
    "two_f = list(two_d.values())\n",
    "print(two_f)"
   ]
  },
  {
   "cell_type": "markdown",
   "id": "0e174751",
   "metadata": {},
   "source": [
    "- .g Use the zip function to combine 2.e and 2.f into a dictionary again"
   ]
  },
  {
   "cell_type": "code",
   "execution_count": 19,
   "id": "cdda5297",
   "metadata": {},
   "outputs": [
    {
     "name": "stdout",
     "output_type": "stream",
     "text": [
      "{'Kinoko': 2021, 'Dango': 2019, 'Mochi': 2019}\n"
     ]
    }
   ],
   "source": [
    "two_g = dict(zip(two_e, two_f))\n",
    "print(two_g)"
   ]
  },
  {
   "cell_type": "markdown",
   "id": "6f0cad8b",
   "metadata": {},
   "source": [
    "### Problem 3: Set combinations\n",
    "\n",
    "Using:\n",
    "- three_setA = {1,2,3,4,5}\n",
    "- three_setB = {2,3,4,5,6}\n",
    "- three_setC = {3,5,7,9}\n",
    "- three_setD = {2,4,6,8}\n",
    "- three_setE = {1,2,3,4}"
   ]
  },
  {
   "cell_type": "code",
   "execution_count": 20,
   "id": "071d93a6",
   "metadata": {},
   "outputs": [],
   "source": [
    "three_setA = {1,2,3,4,5}\n",
    "three_setB = {2,3,4,5,6}\n",
    "three_setC = {3,5,7,9}\n",
    "three_setD = {2,4,6,8}\n",
    "three_setE = {1,2,3,4}"
   ]
  },
  {
   "cell_type": "markdown",
   "id": "99478560",
   "metadata": {},
   "source": [
    "- .a Is set E a subset of set A"
   ]
  },
  {
   "cell_type": "code",
   "execution_count": 21,
   "id": "ac2d0b35",
   "metadata": {},
   "outputs": [
    {
     "name": "stdout",
     "output_type": "stream",
     "text": [
      "True\n"
     ]
    }
   ],
   "source": [
    "three_a = three_setE.issubset(three_setA)\n",
    "print(three_a)"
   ]
  },
  {
   "cell_type": "markdown",
   "id": "0258aaf3",
   "metadata": {},
   "source": [
    "- .b Is set E a strict subset of set A"
   ]
  },
  {
   "cell_type": "code",
   "execution_count": 22,
   "id": "8fd76cd8",
   "metadata": {},
   "outputs": [
    {
     "name": "stdout",
     "output_type": "stream",
     "text": [
      "True\n"
     ]
    }
   ],
   "source": [
    "three_b = three_a and three_setE != three_setA\n",
    "print(three_b)"
   ]
  },
  {
   "cell_type": "markdown",
   "id": "0e2e8775",
   "metadata": {},
   "source": [
    "- .c Create a set that is the intersection of set A and set B"
   ]
  },
  {
   "cell_type": "code",
   "execution_count": 23,
   "id": "0adf0d1b",
   "metadata": {},
   "outputs": [
    {
     "name": "stdout",
     "output_type": "stream",
     "text": [
      "{2, 3, 4, 5}\n"
     ]
    }
   ],
   "source": [
    "three_c = three_setA.intersection(three_setB)\n",
    "print(three_c)"
   ]
  },
  {
   "cell_type": "markdown",
   "id": "bfafdd3f",
   "metadata": {},
   "source": [
    "- .d Create a set that is the union of sets C, D and E"
   ]
  },
  {
   "cell_type": "code",
   "execution_count": 24,
   "id": "7cbd3601",
   "metadata": {},
   "outputs": [
    {
     "name": "stdout",
     "output_type": "stream",
     "text": [
      "{1, 2, 3, 4, 5, 6, 7, 8, 9}\n"
     ]
    }
   ],
   "source": [
    "three_d = three_setC.union(three_setD, three_setE)\n",
    "print(three_d)"
   ]
  },
  {
   "cell_type": "markdown",
   "id": "97a3e544",
   "metadata": {},
   "source": [
    "- .e add 9 to the set"
   ]
  },
  {
   "cell_type": "code",
   "execution_count": 25,
   "id": "271d07dc",
   "metadata": {},
   "outputs": [
    {
     "name": "stdout",
     "output_type": "stream",
     "text": [
      "{1, 2, 3, 4, 5, 6, 7, 8, 9}\n"
     ]
    }
   ],
   "source": [
    "three_e = three_d.copy()\n",
    "three_e.add(9)\n",
    "print(three_e)"
   ]
  },
  {
   "cell_type": "markdown",
   "id": "7dcde728",
   "metadata": {},
   "source": [
    "- .f Using == compare this set to the list in one_a"
   ]
  },
  {
   "cell_type": "code",
   "execution_count": 26,
   "id": "15a68bc6",
   "metadata": {},
   "outputs": [
    {
     "name": "stdout",
     "output_type": "stream",
     "text": [
      "False\n"
     ]
    }
   ],
   "source": [
    "three_f = three_e == one_a\n",
    "print(three_f)"
   ]
  },
  {
   "cell_type": "markdown",
   "id": "e82bed2b",
   "metadata": {},
   "source": [
    "- .g Explain why they are not the same. What would you need to change if you\n",
    "    wanted this to be True?"
   ]
  },
  {
   "cell_type": "code",
   "execution_count": 27,
   "id": "0cc37c37",
   "metadata": {},
   "outputs": [
    {
     "name": "stdout",
     "output_type": "stream",
     "text": [
      "three_e and one_a are different in two ways. 1) one_a has a 0 whereas three_e does not. 2) one_a is a list and three_e is a set. So, 0 would have to be added to three_e and converted to a list for them to be the same\n"
     ]
    }
   ],
   "source": [
    "three_g = 'three_e and one_a are different in two ways. 1) one_a has a 0 whereas three_e does not. 2) one_a is a list and three_e is a set. So, 0 would have to be added to three_e and converted to a list for them to be the same'\n",
    "print(three_g)"
   ]
  },
  {
   "cell_type": "markdown",
   "id": "4ff6f007",
   "metadata": {},
   "source": [
    "### Problem 4: Changing variable types\n",
    "\n",
    "For each step you will modify a variable, then append the type of the variable\n",
    "to a list. Do not recreate the list variable, it should be a running list of \n",
    "types.\n",
    "\n",
    "- .a Create a variable of type int with the value of 8\n",
    "- .b Create an empty list \n",
    "- .c Using type(), add the type of 4.a to this list\n",
    "- .d Add 0.39 to 4.c\n",
    "- .e append the type of 0.39 to the list\n",
    "- .f exponentiate to the -10, ie: 4.d^-10,(hint: there might be an artihmetic operator to do so) round it to no \n",
    "    decimal places, and append to list.\n",
    "- .g append the type to the list"
   ]
  },
  {
   "cell_type": "markdown",
   "id": "3373a30e",
   "metadata": {},
   "source": [
    "- .a Create a variable of type int with the value of 8"
   ]
  },
  {
   "cell_type": "code",
   "execution_count": 28,
   "id": "5f4e3da7",
   "metadata": {},
   "outputs": [
    {
     "name": "stdout",
     "output_type": "stream",
     "text": [
      "8\n"
     ]
    }
   ],
   "source": [
    "four_a = 8\n",
    "print(four_a)"
   ]
  },
  {
   "cell_type": "markdown",
   "id": "301cbd22",
   "metadata": {},
   "source": [
    "- .b Create an empty list "
   ]
  },
  {
   "cell_type": "code",
   "execution_count": 29,
   "id": "8828b13e",
   "metadata": {},
   "outputs": [
    {
     "name": "stdout",
     "output_type": "stream",
     "text": [
      "[]\n"
     ]
    }
   ],
   "source": [
    "four_b = []\n",
    "print(four_b)"
   ]
  },
  {
   "cell_type": "markdown",
   "id": "cd168c94",
   "metadata": {},
   "source": [
    "- .c Using type(), add the type of 4.a to this list"
   ]
  },
  {
   "cell_type": "code",
   "execution_count": 30,
   "id": "f36cf26d",
   "metadata": {},
   "outputs": [
    {
     "name": "stdout",
     "output_type": "stream",
     "text": [
      "[<class 'int'>]\n"
     ]
    }
   ],
   "source": [
    "four_b.append(type(four_a))\n",
    "print(four_b)"
   ]
  },
  {
   "cell_type": "markdown",
   "id": "0aefa9f5",
   "metadata": {},
   "source": [
    "- .d Add 0.39 to 4.c"
   ]
  },
  {
   "cell_type": "code",
   "execution_count": 31,
   "id": "2844488e",
   "metadata": {},
   "outputs": [
    {
     "name": "stdout",
     "output_type": "stream",
     "text": [
      "[<class 'int'>, 0.39]\n"
     ]
    }
   ],
   "source": [
    "four_b.append(0.39)\n",
    "print(four_b)"
   ]
  },
  {
   "cell_type": "markdown",
   "id": "640db159",
   "metadata": {},
   "source": [
    "- .e append the type of 0.39 to the list"
   ]
  },
  {
   "cell_type": "code",
   "execution_count": 32,
   "id": "e382ff3d",
   "metadata": {},
   "outputs": [
    {
     "name": "stdout",
     "output_type": "stream",
     "text": [
      "[<class 'int'>, 0.39, <class 'float'>]\n"
     ]
    }
   ],
   "source": [
    "four_b.append(type(0.39))\n",
    "print(four_b)"
   ]
  },
  {
   "cell_type": "markdown",
   "id": "7b4a0a7d",
   "metadata": {},
   "source": [
    "- .f exponentiate to the -10, ie: 4.d^-10,(hint: there might be an artihmetic operator to do so) round it to no \n",
    "    decimal places, and append to list."
   ]
  },
  {
   "cell_type": "code",
   "execution_count": 33,
   "id": "acbb05ef",
   "metadata": {},
   "outputs": [
    {
     "name": "stdout",
     "output_type": "stream",
     "text": [
      "[<class 'int'>, 0.39, <class 'float'>, 12284]\n"
     ]
    }
   ],
   "source": [
    "four_b.append(round(0.39**-10))\n",
    "print(four_b)"
   ]
  },
  {
   "cell_type": "markdown",
   "id": "11149a89",
   "metadata": {},
   "source": [
    "- .g append the type to the list"
   ]
  },
  {
   "cell_type": "code",
   "execution_count": 34,
   "id": "e6be067d",
   "metadata": {},
   "outputs": [
    {
     "name": "stdout",
     "output_type": "stream",
     "text": [
      "[<class 'int'>, 0.39, <class 'float'>, 12284, <class 'int'>]\n"
     ]
    }
   ],
   "source": [
    "four_b.append(type(round(0.39**-10)))\n",
    "print(four_b)"
   ]
  },
  {
   "cell_type": "markdown",
   "id": "7e0bea74",
   "metadata": {},
   "source": [
    "### Problem 5: More variable type changes\n",
    "\n",
    "- .a Manually create a dictionary where the values are items in the list from where we left in \n",
    "    problem 4, and the keys should be their index in the list. Print the dictionary.\n",
    "- .b Add 300 and coerce it into a string\n",
    "- .c append the type to the list\n",
    "- .d slice the string up to the 2nd element\n",
    "- .e append the type to the list\n",
    "- .f use list comprehension to convert this into a new list of integers\n",
    "- .g append the type to the list\n",
    "- .h append the type of three_setA to the list"
   ]
  },
  {
   "cell_type": "markdown",
   "id": "1b80aa21",
   "metadata": {},
   "source": [
    "- .a Manually create a dictionary where the values are items in the list from where we left in \n",
    "    problem 4, and the keys should be their index in the list. Print the dictionary."
   ]
  },
  {
   "cell_type": "code",
   "execution_count": 35,
   "id": "e518ccdb",
   "metadata": {},
   "outputs": [
    {
     "name": "stdout",
     "output_type": "stream",
     "text": [
      "five_a: {0: <class 'int'>, 1: 0.39, 2: <class 'float'>, 3: 12284, 4: <class 'int'>}\n"
     ]
    }
   ],
   "source": [
    "five_a = dict(zip(list(range(len(four_b))), four_b))\n",
    "print(f'five_a: {five_a}')"
   ]
  },
  {
   "cell_type": "markdown",
   "id": "b1c638b6",
   "metadata": {},
   "source": [
    "- .b Add 300 and coerce it into a string"
   ]
  },
  {
   "cell_type": "code",
   "execution_count": 36,
   "id": "c53de39b",
   "metadata": {},
   "outputs": [
    {
     "name": "stdout",
     "output_type": "stream",
     "text": [
      "[<class 'int'>, 0.39, <class 'float'>, 12284, <class 'int'>, '300']\n"
     ]
    }
   ],
   "source": [
    "five_b = str(300)\n",
    "four_b.append(five_b)\n",
    "print(four_b)"
   ]
  },
  {
   "cell_type": "markdown",
   "id": "2357ca2a",
   "metadata": {},
   "source": [
    "- .c append the type to the list"
   ]
  },
  {
   "cell_type": "code",
   "execution_count": 37,
   "id": "4572a312",
   "metadata": {},
   "outputs": [
    {
     "name": "stdout",
     "output_type": "stream",
     "text": [
      "[<class 'int'>, 0.39, <class 'float'>, 12284, <class 'int'>, '300', <class 'str'>]\n"
     ]
    }
   ],
   "source": [
    "four_b.append(type(five_b))\n",
    "print(four_b)"
   ]
  },
  {
   "cell_type": "markdown",
   "id": "5d32f650",
   "metadata": {},
   "source": [
    "- .d slice the string up to the 2nd element"
   ]
  },
  {
   "cell_type": "code",
   "execution_count": 38,
   "id": "e2bdce44",
   "metadata": {},
   "outputs": [
    {
     "name": "stdout",
     "output_type": "stream",
     "text": [
      "30\n"
     ]
    }
   ],
   "source": [
    "five_d = five_b[:2]\n",
    "print(five_d)"
   ]
  },
  {
   "cell_type": "markdown",
   "id": "5d56ad0d",
   "metadata": {},
   "source": [
    "- .e append the type to the list"
   ]
  },
  {
   "cell_type": "code",
   "execution_count": 39,
   "id": "ecbc09ac",
   "metadata": {},
   "outputs": [
    {
     "name": "stdout",
     "output_type": "stream",
     "text": [
      "[<class 'int'>, 0.39, <class 'float'>, 12284, <class 'int'>, '300', <class 'str'>, <class 'str'>]\n"
     ]
    }
   ],
   "source": [
    "four_b.append(type(five_d))\n",
    "print(four_b)"
   ]
  },
  {
   "cell_type": "markdown",
   "id": "f6aa791b",
   "metadata": {},
   "source": [
    "- .f use list comprehension to convert this into a new list of integers"
   ]
  },
  {
   "cell_type": "code",
   "execution_count": 40,
   "id": "4b38a90e",
   "metadata": {},
   "outputs": [
    {
     "name": "stdout",
     "output_type": "stream",
     "text": [
      "[3, 0]\n"
     ]
    }
   ],
   "source": [
    "five_f = [int(x) for x in five_d]\n",
    "print(five_f)"
   ]
  },
  {
   "cell_type": "markdown",
   "id": "3b211f2c",
   "metadata": {},
   "source": [
    "- .g append the type to the list"
   ]
  },
  {
   "cell_type": "code",
   "execution_count": 41,
   "id": "c855f905",
   "metadata": {},
   "outputs": [
    {
     "name": "stdout",
     "output_type": "stream",
     "text": [
      "[<class 'int'>, 0.39, <class 'float'>, 12284, <class 'int'>, '300', <class 'str'>, <class 'str'>, <class 'list'>]\n"
     ]
    }
   ],
   "source": [
    "four_b.append(type(five_f))\n",
    "print(four_b)"
   ]
  },
  {
   "cell_type": "markdown",
   "id": "7a20affd",
   "metadata": {},
   "source": [
    "- .h append the type of three_setA to the list"
   ]
  },
  {
   "cell_type": "code",
   "execution_count": 42,
   "id": "9bd46b60",
   "metadata": {},
   "outputs": [
    {
     "name": "stdout",
     "output_type": "stream",
     "text": [
      "[<class 'int'>, 0.39, <class 'float'>, 12284, <class 'int'>, '300', <class 'str'>, <class 'str'>, <class 'list'>, <class 'set'>]\n"
     ]
    }
   ],
   "source": [
    "four_b.append(type(three_setA))\n",
    "print(four_b)"
   ]
  }
 ],
 "metadata": {
  "kernelspec": {
   "display_name": "Python 3",
   "language": "python",
   "name": "python3"
  },
  "language_info": {
   "codemirror_mode": {
    "name": "ipython",
    "version": 3
   },
   "file_extension": ".py",
   "mimetype": "text/x-python",
   "name": "python",
   "nbconvert_exporter": "python",
   "pygments_lexer": "ipython3",
   "version": "3.8.8"
  }
 },
 "nbformat": 4,
 "nbformat_minor": 5
}
